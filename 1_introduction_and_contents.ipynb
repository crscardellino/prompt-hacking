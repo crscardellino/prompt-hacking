{
 "cells": [
  {
   "cell_type": "markdown",
   "id": "9e380d9b-dfa0-47be-a1e6-615e160b980e",
   "metadata": {
    "editable": true,
    "jp-MarkdownHeadingCollapsed": true,
    "slideshow": {
     "slide_type": "slide"
    },
    "tags": []
   },
   "source": [
    "<h1 style=\"text-align:center;font-weight:normal;font-size:75pt;\">Prompt Hacking: Técnicas ofensivas y defensivas en la era de la IA</h1>\n",
    "\n",
    "<div style=\"text-align:center;\">\n",
    "    <div style=\"display:inline-block;margin-right:20px;\">\n",
    "        <img src=\"./img/logo.png\" style=\"height:10em;width:auto;\"/>\n",
    "    </div>\n",
    "</div>"
   ]
  },
  {
   "cell_type": "markdown",
   "id": "412370a0-2c90-48a5-9aaf-7a184c2f0f4b",
   "metadata": {
    "editable": true,
    "slideshow": {
     "slide_type": "subslide"
    },
    "tags": []
   },
   "source": [
    "# ¿Quién soy?\n",
    "\n",
    "<div style=\"text-align:center;\">\n",
    "    <h4 style=\"font-size:2em;margin:5px;\">Cristian Cardellino</h4>\n",
    "    <h5 style=\"font-style:normal;font-size:1.5em;margin:5px;\">AI Research & Engineering @ Eclypsium</h5>\n",
    "    <div style=\"display:inline-block;margin-right:20px;\">\n",
    "        <img src=\"./img/me.jpg\" style=\"height:15em;width:auto;\"/>\n",
    "    </div>\n",
    "    <h6 style=\"font-style:normal;font-size:1.25em;margin:5px;\">\n",
    "        <a href=\"https://crscardellino.net\" style=\"color:royalblue;\" target=\"_blank\">https://crscardellino.net</a>\n",
    "    </h6>\n",
    "</div>"
   ]
  },
  {
   "cell_type": "markdown",
   "id": "0ff8df4b-5f10-4f79-bc5d-5ebcf7c812bf",
   "metadata": {
    "editable": true,
    "slideshow": {
     "slide_type": "subslide"
    },
    "tags": []
   },
   "source": [
    "# Objetivos del Curso\n",
    "\n",
    "* Comprender qué son y cómo funcionan los modelos de lenguaje masivos y cómo pueden ser vulnerados.\n",
    "* Entender las distintas técnicas de prompt hacking y sus efectos en aplicaciones que se construyen sobre motores de IA.\n",
    "* Analizar los riesgos y consecuencias de los ataques de prompt hacking.\n",
    "* Desarrollar habilidades para identificar y mitigar ataques prompt hacking."
   ]
  },
  {
   "cell_type": "markdown",
   "id": "8c54c387-cd42-4f18-9346-165b1cc72ddc",
   "metadata": {
    "editable": true,
    "slideshow": {
     "slide_type": "subslide"
    },
    "tags": []
   },
   "source": [
    "# Temario del Curso\n",
    "\n",
    "1. [Introducción a LLMs](./2_introduction_to_llms.ipynb)\n",
    "    1. [¿Qué es un LLM?](./2_introduction_to_llms.ipynb#¿Qué-es-un-LLM?)\n",
    "    1. [¿Qué es un prompt?](./2_introduction_to_llms.ipynb#%C2%BFQu%C3%A9-es-un-prompt?)\n",
    "    1. [¿Qué son los agentes de IA?](./2_introduction_to_llms.ipynb#¿Qué-son-los-Agentes-de-IA?)\n",
    "1. [Prompt Hacking 101: Prompt Injection vs. Jailbreaking](./3_prompt_hacking_intro.ipynb)\n",
    "    1. [Prompt Injection/Hijacking](./3_prompt_hacking_intro.ipynb#Prompt-Injection/Hijacking)\n",
    "    1. [Jailbreaking](./3_prompt_hacking_intro.ipynb#Jailbreaking)\n",
    "    1. [Prompt Injection vs. Jailbreaking](./3_prompt_hacking_intro.ipynb#Prompt-Injection-vs.-Jailbreaking)\n",
    "1. [Prompt Hacking 101: Técnicas Ofensivas](./4_attacks.ipynb)\n",
    "1. [Prompt Hacking 101: Técnicas Defensivas](./5_defenses.ipynb)"
   ]
  }
 ],
 "metadata": {
  "kernelspec": {
   "display_name": "Python 3 (ipykernel)",
   "language": "python",
   "name": "python3"
  },
  "language_info": {
   "codemirror_mode": {
    "name": "ipython",
    "version": 3
   },
   "file_extension": ".py",
   "mimetype": "text/x-python",
   "name": "python",
   "nbconvert_exporter": "python",
   "pygments_lexer": "ipython3",
   "version": "3.12.10"
  }
 },
 "nbformat": 4,
 "nbformat_minor": 5
}
