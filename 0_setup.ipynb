{
 "cells": [
  {
   "attachments": {},
   "cell_type": "markdown",
   "metadata": {
    "editable": true,
    "id": "44da8514",
    "slideshow": {
     "slide_type": ""
    },
    "tags": []
   },
   "source": [
    "# Environment Setup\n",
    "\n",
    "This notebook explains how to install all the preriquistes and libraries that you will need to run the following tutorials. If you can execute all the following cells, you are good to go."
   ]
  },
  {
   "attachments": {},
   "cell_type": "markdown",
   "metadata": {
    "editable": true,
    "id": "96d2b459",
    "slideshow": {
     "slide_type": ""
    },
    "tags": []
   },
   "source": [
    "## Table of contents\n",
    "\n",
    "* [Prerequisites](#Prerequisites)\n",
    "* [Project Setup](#Project-Setup)"
   ]
  },
  {
   "cell_type": "markdown",
   "metadata": {
    "editable": true,
    "id": "2215e296",
    "slideshow": {
     "slide_type": ""
    },
    "tags": []
   },
   "source": [
    "## Prerequisites\n",
    "\n",
    "This course assumes some basic knowledge of Python and Unix like systems (e.g., Linux and MacOS). Most of the setup and configurations instructions have been designed for Linux, although they should work on a MacOS/Windows environment provided access to a console."
   ]
  },
  {
   "cell_type": "markdown",
   "metadata": {
    "editable": true,
    "id": "2215e296",
    "slideshow": {
     "slide_type": ""
    },
    "tags": []
   },
   "source": [
    "### Managing Python\n",
    "\n",
    "Python is often pre-installed on Linux. However, a better solution is either to have it managed via [PyEnv](https://github.com/pyenv/pyenv) or [uv](https://docs.astral.sh/uv/). For this course you are required Python version >= 3.12.\n",
    "\n",
    "#### Installing `pyenv`\n",
    "\n",
    "Pyenv is a Python environment manager, that allows you to have multiple Python versions installed in your system (even locally as a user) without conflicts.\n",
    "\n",
    "You can check the installation instructions on the different OS available in the [official documentation](https://github.com/pyenv/pyenv?tab=readme-ov-file#installation). After that you can install the required Python version and set it up locally on this same directory:\n",
    "\n",
    "```bash\n",
    "$ pyenv install 3.12\n",
    "$ pyenv local 3.12\n",
    "```\n",
    "\n",
    "#### Installing `uv`\n",
    "\n",
    "`uv` is an extremely fast Python package installer and resolver, written in Rust. It is designed to be a drop-in replacement for `pip` and `pip-tools`.\n",
    "\n",
    "While you can install `uv` using `pip`, the recommended way to install command-line applications like `uv` is using `pipx`. `pipx` installs applications in isolated environments, preventing conflicts with your project dependencies. There are other ways to install `uv` as well, you can check [the official documentation](https://docs.astral.sh/uv/getting-started/installation/)\n",
    "\n",
    "To install `uv` using `pipx`, run the following command in your terminal:\n",
    "\n",
    "```bash\n",
    "pipx install uv\n",
    "```\n",
    "\n",
    "If you don't have `pipx` installed, you'll need to install it first (e.g., `pip install pipx` or using your system's package manager).\n",
    "\n",
    "After installation, you can verify that `uv` is installed correctly by checking its version:\n",
    "\n",
    "```bash\n",
    "uv --version\n",
    "```\n",
    "\n",
    "This command should display the installed version of `uv`."
   ]
  },
  {
   "cell_type": "markdown",
   "metadata": {
    "editable": true,
    "id": "4fedb5d8",
    "slideshow": {
     "slide_type": ""
    },
    "tags": []
   },
   "source": [
    "## Project Setup"
   ]
  },
  {
   "cell_type": "markdown",
   "metadata": {
    "editable": true,
    "id": "4fedb5d8",
    "slideshow": {
     "slide_type": ""
    },
    "tags": []
   },
   "source": [
    "### Setup with uv\n",
    "\n",
    "`uv` makes setting up a project and installing dependencies straightforward and fast.\n",
    "\n",
    "#### Creating a Virtual Environment\n",
    "\n",
    "To create a virtual environment for your project using `uv`, from the root directory run:\n",
    "\n",
    "```bash\n",
    "$ uv venv\n",
    "```\n",
    "\n",
    "By default, this command creates a directory named `.venv` in your current directory, which contains the isolated Python environment.\n",
    "\n",
    "#### Activating the Virtual Environment\n",
    "\n",
    "You can activate the virtual environment via `source`:\n",
    "\n",
    "```bash\n",
    "source .venv/bin/activate\n",
    "```\n",
    "\n",
    "However this is not necessary as the preferred way is to run everything in your environment via `uv` or [running tools in an isolated environment](https://docs.astral.sh/uv/guides/tools/) via `uvx` (like `pipx`):\n",
    "\n",
    "```bash\n",
    "$ uv run -- jupyter lab\n",
    "```\n",
    "\n",
    "#### Installing Dependencies\n",
    "\n",
    "You can install the dependencies listed in your `pyproject.toml` file using `uv sync`:\n",
    "\n",
    "```bash\n",
    "uv sync\n",
    "```\n",
    "\n",
    "The `uv sync` command reads the `[project.dependencies]` and `[project.optional-dependencies]` sections of your `pyproject.toml` file and installs the specified packages into the active virtual environment.\n",
    "\n",
    "#### Other Commands\n",
    "\n",
    "For other features and commands of `uv` please [visit the official documentation](https://docs.astral.sh/uv/getting-started/features/)"
   ]
  },
  {
   "cell_type": "markdown",
   "metadata": {
    "editable": true,
    "id": "d276b380",
    "slideshow": {
     "slide_type": ""
    },
    "tags": []
   },
   "source": [
    "### Setup with pip and venv\n",
    "\n",
    "If you don't want to use `uv`, you can setup your virtual environment via Python's built-in `venv` module and `pip` as the package installer.\n",
    "\n",
    "#### Creating a Virtual Environment\n",
    "\n",
    "To create a virtual environment using `venv`, navigate to your project directory in the terminal and run:\n",
    "\n",
    "```bash\n",
    "python -m venv .venv\n",
    "```\n",
    "\n",
    "#### Activating the Virtual Environment\n",
    "\n",
    "Before installing packages into the virtual environment, you need to activate it.\n",
    "\n",
    "```bash\n",
    "source .venv/bin/activate\n",
    "```\n",
    "\n",
    "#### Installing Dependencies\n",
    "\n",
    "With the virtual environment activated, you can install the dependencies specified in your `pyproject.toml` file using `pip`:\n",
    "\n",
    "```bash\n",
    "pip install .\n",
    "```"
   ]
  }
 ],
 "metadata": {
  "colab": {
   "provenance": []
  },
  "kernelspec": {
   "display_name": "Python 3 (ipykernel)",
   "language": "python",
   "name": "python3"
  },
  "language_info": {
   "codemirror_mode": {
    "name": "ipython",
    "version": 3
   },
   "file_extension": ".py",
   "mimetype": "text/x-python",
   "name": "python",
   "nbconvert_exporter": "python",
   "pygments_lexer": "ipython3",
   "version": "3.12.9"
  }
 },
 "nbformat": 4,
 "nbformat_minor": 4
}
